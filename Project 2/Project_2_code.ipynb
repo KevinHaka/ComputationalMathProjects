{
 "cells": [
  {
   "cell_type": "markdown",
   "id": "e7ea9a62-27f8-4b80-adb0-05d7150e43da",
   "metadata": {
    "jp-MarkdownHeadingCollapsed": true
   },
   "source": [
    "<h2>Methods definition</h2>"
   ]
  },
  {
   "cell_type": "code",
   "execution_count": 16,
   "id": "76e28957-5c50-4853-9165-4a0da2c48976",
   "metadata": {},
   "outputs": [],
   "source": [
    "def LU_decomposition(A, determinant=False, inverse=False):\n",
    "    \"\"\"\n",
    "    This function decomposes a given matrix 'A' into\n",
    "    two new matrices 'L' and 'U' so that A = LU. \n",
    "    This implementation is based on Crout decomposition.\n",
    "\n",
    "    Parameters:\n",
    "    -----------\n",
    "    A (ndarray or list):\n",
    "        The square matrix for the decomposition.\n",
    "\n",
    "    Returns:\n",
    "    --------\n",
    "    (list): \n",
    "        Returns a list which contains L and U matrices. \n",
    "        If determinant or inverse is True, it returns\n",
    "        them as well.\n",
    "    \"\"\"\n",
    "\n",
    "    # Necessary library\n",
    "    import numpy as np\n",
    "    \n",
    "    # Convert A into numpy.ndarray\n",
    "    if type(A) != np.ndarray: \n",
    "        A = np.array(A)\n",
    "\n",
    "    # Square matrix dimension\n",
    "    n = A.shape[0]\n",
    "\n",
    "    # Initial matrices\n",
    "    L = np.zeros((n,n))\n",
    "    U = np.identity(n)\n",
    "\n",
    "    # determinant and inverse matrix\n",
    "    det = None\n",
    "    inv = None\n",
    "    \n",
    "    # L and U matrices determination\n",
    "    L[:,0] = A[:,0]\n",
    "    U[0,1:] = A[0,1:]/L[0,0]\n",
    "\n",
    "    for j in range(1, n-1):\n",
    "        for i in range(j, n):\n",
    "            L[i,j] = A[i,j] - sum([L[i,k]*U[k,j] for k in range(0, j)])\n",
    "\n",
    "        for k in range(j+1,n):\n",
    "            U[j,k] = (A[j,k] - sum([L[j,i]*U[i,k] for i in range(0, j)]))/L[j,j]\n",
    "\n",
    "    L[-1,-1] = A[-1,-1] - sum([L[-1,k]*U[k,-1] for k in range(0, n)])\n",
    "\n",
    "    # determinant of A\n",
    "    if determinant: det = np.product([L[i,i]*U[i,i] for i in range(n)])\n",
    "\n",
    "    # inverse of A\n",
    "    if inverse:\n",
    "        for j in range(n):\n",
    "            identity_col = [1 if i==j else 0 for i in range(n)]\n",
    "            temp1 = np.array([identity_col[0]/L[0,0]])\n",
    "    \n",
    "            for i in range(1,n):\n",
    "                temp1 = np.r_[temp1, (identity_col[i] - sum([L[i,k]*temp1[k] for k in range(i)]))/L[i,i]]\n",
    "    \n",
    "            temp2 = np.array([temp1[-1]])\n",
    "            for i in range(n-2,-1,-1):\n",
    "                temp2 = np.r_[temp2, temp1[i] - sum([U[i,k]*temp2[n-k-1] for k in range(i+1,n)])]\n",
    "    \n",
    "            if j != 0:\n",
    "                inv = np.c_[inv, temp2[::-1]]\n",
    "            else:\n",
    "                inv = temp2[::-1]\n",
    "\n",
    "    return [i for i in [L,U,det,inv] if type(i)!=type(None)]"
   ]
  },
  {
   "cell_type": "code",
   "execution_count": 17,
   "id": "c1498886-518a-4da2-878b-40bf1da86cda",
   "metadata": {},
   "outputs": [],
   "source": [
    "def power_method(A, accuracy ,i_num, data_export=False):\n",
    "    \"\"\"\n",
    "    This is an iterative method that approximates the \n",
    "    dominant eigenvalue and its corresponding eigenvector.\n",
    "\n",
    "    Parameters:\n",
    "    -----------\n",
    "    A (ndarray or list):\n",
    "        Matrix A.\n",
    "    accuracy (int):\n",
    "        The number of significant figures.\n",
    "    i_num (int):\n",
    "        The maximum interation number.\n",
    "    data_export (bool): \n",
    "            If True, returns data in each iteration,\n",
    "            if False, returns only the convergen.\n",
    "\n",
    "    Returns:\n",
    "    --------\n",
    "    (generator): Returns a tuple which contains:\n",
    "        - iteration number,\n",
    "        - eigenvalue,\n",
    "        - eigenvector,\n",
    "        - relative error,\n",
    "        - tolerance\n",
    "    \"\"\"\n",
    "\n",
    "    # Necessary library\n",
    "    import numpy as np\n",
    "\n",
    "    # Parameter\n",
    "    eps = 0.5*10**-accuracy\n",
    "    \n",
    "    # Convert A into numpy.ndarray\n",
    "    if type(A) != np.ndarray: \n",
    "        A = np.array(A)\n",
    "\n",
    "    # Square matrix dimension\n",
    "    n = A.shape[0]\n",
    "\n",
    "    # initial guess\n",
    "    x_old = np.random.rand(n)\n",
    "\n",
    "    # Iteration\n",
    "    for k in range(1, i_num+1):\n",
    "        x_new = np.array([sum([A[j,i]*x_old[i] for i in range(n)]) for j in range(n)])\n",
    "        lambda_new = sum([x_old[i]*x_new[i] for i in range(n)]) / sum([x_old[i]*x_old[i] for i in range(n)])\n",
    "        x_old = x_new/np.sqrt(sum(x_new**2))\n",
    "        \n",
    "         # Convergence criterion\n",
    "        if k != 1:\n",
    "            relative_error  = abs((lambda_new - lambda_old)/lambda_new)\n",
    "            if relative_error < eps:\n",
    "                yield k, lambda_new , x_old, relative_error, eps\n",
    "                break\n",
    "\n",
    "        # Data export\n",
    "        if data_export == True:\n",
    "            if k != 1: yield k, lambda_new , x_old, relative_error, eps\n",
    "            else: yield k, lambda_new , x_old, np.nan, eps\n",
    "\n",
    "        lambda_old = lambda_new\n",
    "    else: print('Not Convergent.')"
   ]
  },
  {
   "cell_type": "markdown",
   "id": "85c971d5-b033-41ac-a27f-c32d67c83550",
   "metadata": {
    "jp-MarkdownHeadingCollapsed": true
   },
   "source": [
    "<h2>Initial conditions</h2>"
   ]
  },
  {
   "cell_type": "code",
   "execution_count": 18,
   "id": "10222929-3d90-4871-aa89-5ffa18a6f472",
   "metadata": {},
   "outputs": [],
   "source": [
    "# Necessary libraries\n",
    "import pandas as pd\n",
    "import numpy as np\n",
    "import matplotlib.pyplot as plt\n",
    "import seaborn as sns\n",
    "import math\n",
    "\n",
    "pd.set_option('display.precision', 6)\n",
    "sns.set_theme()"
   ]
  },
  {
   "cell_type": "code",
   "execution_count": 19,
   "id": "9de4f4c7-2160-499a-837d-1800d029230e",
   "metadata": {},
   "outputs": [],
   "source": [
    "# The matrix A\n",
    "A = \\\n",
    "[\n",
    "    [4,1,2,3,5],\n",
    "    [1,3,1,4,2],\n",
    "    [2,1,5,2,3],\n",
    "    [3,4,2,4,1],\n",
    "    [5,2,3,1,5]\n",
    "]"
   ]
  },
  {
   "cell_type": "markdown",
   "id": "043208af-a1e6-42ce-adee-c1219d5acd42",
   "metadata": {
    "jp-MarkdownHeadingCollapsed": true
   },
   "source": [
    "<h2>LU decomposition</h2>"
   ]
  },
  {
   "cell_type": "code",
   "execution_count": 20,
   "id": "c4d14227-b29c-4c6e-95e2-ff336c546d99",
   "metadata": {},
   "outputs": [],
   "source": [
    "# Calculation of L, U, determinant and inverse matrix\n",
    "L,U,det,invA = LU_decomposition(A,determinant=True,inverse=True)"
   ]
  },
  {
   "cell_type": "code",
   "execution_count": 21,
   "id": "016316a2-2e28-41b7-8913-816fcd14e5c6",
   "metadata": {},
   "outputs": [
    {
     "data": {
      "text/plain": [
       "-432.0"
      ]
     },
     "execution_count": 21,
     "metadata": {},
     "output_type": "execute_result"
    }
   ],
   "source": [
    "# Print determinant value\n",
    "det.round(3)"
   ]
  },
  {
   "cell_type": "code",
   "execution_count": 23,
   "id": "43e0936e-6691-486b-adab-547db8058fab",
   "metadata": {},
   "outputs": [
    {
     "name": "stdout",
     "output_type": "stream",
     "text": [
      "L = \n",
      "[[ 4.     0.     0.     0.     0.   ]\n",
      " [ 1.     2.75   0.     0.     0.   ]\n",
      " [ 2.     0.5    3.909  0.     0.   ]\n",
      " [ 3.     3.25  -0.091 -2.093  0.   ]\n",
      " [ 5.     0.75   0.364 -3.628  4.8  ]]\n",
      "\n",
      "U = \n",
      "[[ 1.     0.25   0.5    0.75   1.25 ]\n",
      " [ 0.     1.     0.182  1.182  0.273]\n",
      " [ 0.     0.     1.    -0.023  0.093]\n",
      " [ 0.     0.     0.     1.     1.733]\n",
      " [ 0.     0.     0.     0.     1.   ]]\n",
      "\n",
      "inv(A) = \n",
      "[[ 0.245 -0.458 -0.102  0.343 -0.069]\n",
      " [-0.458  0.375 -0.083 -0.083  0.375]\n",
      " [-0.102 -0.083  0.259  0.037 -0.028]\n",
      " [ 0.343 -0.083  0.037  0.148 -0.361]\n",
      " [-0.069  0.375 -0.028 -0.361  0.208]]\n"
     ]
    }
   ],
   "source": [
    "# Print L, U and inverse matrices\n",
    "print('L = ')\n",
    "print(L.round(3))\n",
    "print('\\nU = ')\n",
    "print(U.round(3))\n",
    "print('\\ninv(A) = ')\n",
    "print(np.round(invA,3))"
   ]
  },
  {
   "cell_type": "code",
   "execution_count": 14,
   "id": "5bf5d2d5-3885-450f-aeb5-75d01f4194a4",
   "metadata": {},
   "outputs": [
    {
     "data": {
      "text/plain": [
       "array([[ 1.,  0.,  0.,  0.,  0.],\n",
       "       [-0.,  1., -0.,  0., -0.],\n",
       "       [-0.,  0.,  1.,  0.,  0.],\n",
       "       [ 0.,  0.,  0.,  1., -0.],\n",
       "       [ 0.,  0., -0.,  0.,  1.]])"
      ]
     },
     "execution_count": 14,
     "metadata": {},
     "output_type": "execute_result"
    }
   ],
   "source": [
    "# Checking for the correctness of the inverse matrix\n",
    "np.dot(A,invA).round(3)"
   ]
  },
  {
   "cell_type": "markdown",
   "id": "60fceafc-73e4-4f27-9d00-d415889de4be",
   "metadata": {
    "jp-MarkdownHeadingCollapsed": true
   },
   "source": [
    "<h2>Power method</h2>"
   ]
  },
  {
   "cell_type": "code",
   "execution_count": 15,
   "id": "d294c335-e164-45c9-a746-146b15373934",
   "metadata": {},
   "outputs": [
    {
     "data": {
      "text/html": [
       "<div>\n",
       "<style scoped>\n",
       "    .dataframe tbody tr th:only-of-type {\n",
       "        vertical-align: middle;\n",
       "    }\n",
       "\n",
       "    .dataframe tbody tr th {\n",
       "        vertical-align: top;\n",
       "    }\n",
       "\n",
       "    .dataframe thead th {\n",
       "        text-align: right;\n",
       "    }\n",
       "</style>\n",
       "<table border=\"1\" class=\"dataframe\">\n",
       "  <thead>\n",
       "    <tr style=\"text-align: right;\">\n",
       "      <th></th>\n",
       "      <th>λ</th>\n",
       "      <th>v</th>\n",
       "      <th>e</th>\n",
       "      <th>eps</th>\n",
       "    </tr>\n",
       "    <tr>\n",
       "      <th>Iteration</th>\n",
       "      <th></th>\n",
       "      <th></th>\n",
       "      <th></th>\n",
       "      <th></th>\n",
       "    </tr>\n",
       "  </thead>\n",
       "  <tbody>\n",
       "    <tr>\n",
       "      <th>1</th>\n",
       "      <td>13.144509</td>\n",
       "      <td>[0.472, 0.326, 0.437, 0.452, 0.525]</td>\n",
       "      <td>NaN</td>\n",
       "      <td>0.00005</td>\n",
       "    </tr>\n",
       "    <tr>\n",
       "      <th>2</th>\n",
       "      <td>14.041266</td>\n",
       "      <td>[0.503, 0.338, 0.422, 0.422, 0.526]</td>\n",
       "      <td>0.063866</td>\n",
       "      <td>0.00005</td>\n",
       "    </tr>\n",
       "    <tr>\n",
       "      <th>3</th>\n",
       "      <td>14.073773</td>\n",
       "      <td>[0.504, 0.332, 0.418, 0.42, 0.534]</td>\n",
       "      <td>0.002310</td>\n",
       "      <td>0.00005</td>\n",
       "    </tr>\n",
       "    <tr>\n",
       "      <th>4</th>\n",
       "      <td>14.075462</td>\n",
       "      <td>[0.505, 0.332, 0.417, 0.419, 0.535]</td>\n",
       "      <td>0.000120</td>\n",
       "      <td>0.00005</td>\n",
       "    </tr>\n",
       "    <tr>\n",
       "      <th>5</th>\n",
       "      <td>14.075597</td>\n",
       "      <td>[0.505, 0.331, 0.417, 0.418, 0.535]</td>\n",
       "      <td>0.000010</td>\n",
       "      <td>0.00005</td>\n",
       "    </tr>\n",
       "  </tbody>\n",
       "</table>\n",
       "</div>"
      ],
      "text/plain": [
       "                   λ                                    v         e      eps\n",
       "Iteration                                                                   \n",
       "1          13.144509  [0.472, 0.326, 0.437, 0.452, 0.525]       NaN  0.00005\n",
       "2          14.041266  [0.503, 0.338, 0.422, 0.422, 0.526]  0.063866  0.00005\n",
       "3          14.073773   [0.504, 0.332, 0.418, 0.42, 0.534]  0.002310  0.00005\n",
       "4          14.075462  [0.505, 0.332, 0.417, 0.419, 0.535]  0.000120  0.00005\n",
       "5          14.075597  [0.505, 0.331, 0.417, 0.418, 0.535]  0.000010  0.00005"
      ]
     },
     "execution_count": 15,
     "metadata": {},
     "output_type": "execute_result"
    }
   ],
   "source": [
    "# Data\n",
    "power_method_data = list(power_method(A, 4, 50, True))\n",
    "power_method_df = pd.DataFrame(power_method_data, columns=['Iteration', 'λ', 'v', 'e', 'eps']).set_index('Iteration')\n",
    "power_method_df.v = power_method_df.v.apply(lambda vec: vec.round(3))\n",
    "power_method_df"
   ]
  },
  {
   "cell_type": "code",
   "execution_count": 16,
   "id": "bb6378cf-ef39-4a90-bc20-a3d7bcec9bfc",
   "metadata": {},
   "outputs": [
    {
     "data": {
      "image/png": "[encoded data removed]",
      "text/plain": [
       "<Figure size 640x480 with 1 Axes>"
      ]
     },
     "metadata": {},
     "output_type": "display_data"
    }
   ],
   "source": [
    "# Line plots of errors\n",
    "sns.lineplot((power_method_df.eps - power_method_df.e)[1:], label='eps - re')\n",
    "\n",
    "# labels and title\n",
    "plt.xlabel('Iteration')\n",
    "plt.ylabel('error')\n",
    "plt.title('Power method')\n",
    "plt.legend()\n",
    "plt.show()"
   ]
  }
 ],
 "metadata": {
  "kernelspec": {
   "display_name": "Python 3 (ipykernel)",
   "language": "python",
   "name": "python3"
  },
  "language_info": {
   "codemirror_mode": {
    "name": "ipython",
    "version": 3
   },
   "file_extension": ".py",
   "mimetype": "text/x-python",
   "name": "python",
   "nbconvert_exporter": "python",
   "pygments_lexer": "ipython3",
   "version": "3.10.7"
  }
 },
 "nbformat": 4,
 "nbformat_minor": 5
}
